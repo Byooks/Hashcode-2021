{
 "cells": [
  {
   "cell_type": "markdown",
   "id": "animated-tumor",
   "metadata": {},
   "source": [
    "# Problem\n",
    "D - the duration of the simulation, in seconds<br>\n",
    "I - the number of intersections (with IDs from 0 to I-1 )<br>\n",
    "S - the number of streets<br>\n",
    "V - the number of cars<br>\n",
    "F - the bonus points for each car that reachesits destination before time D<br>\n",
    "<br>\n",
    "The next S lines contain descriptions of streets. Each line contains:<br>\n",
    "two integers B and E - the intersections at the start and the end of the street, respectively<br>\n",
    "the street name (a string consisting of between 3 and 30 lowercase ASCII characters a-z and the character - )<br>\n",
    "an integer L (1 ≤ L ≤ D ) - the time it takes a car to get from the beginning to the end of that street.<br>\n",
    "<br>\n",
    "The next V lines describe the paths of each car. Each line contains:<br>\n",
    "an integer P - the number of streets that the car wants to travel<br>\n",
    "followed by P names of the streets: The car starts at the end of the first street (i.e. it waits for the green light to move to the next street) and follows the path until the end of the last street. The path of a car is always valid, i.e. the streets will be connected by intersections"
   ]
  },
  {
   "cell_type": "code",
   "execution_count": 1,
   "id": "raised-lawrence",
   "metadata": {
    "scrolled": false
   },
   "outputs": [
    {
     "name": "stdout",
     "output_type": "stream",
     "text": [
      "{0: [2], 1: [0, 3], 3: [2], 2: [1]}\n",
      "4 3\n",
      "3.5\n",
      "0\n"
     ]
    }
   ],
   "source": [
    "# Variable/function Declaration\n",
    "street_list = []\n",
    "path_list = []\n",
    "file = 'a'\n",
    "\n",
    "# Initialise first line of values in input\n",
    "text = open(file+'.txt', 'r').readlines()\n",
    "firstline = text[0]\n",
    "firstline = firstline.split(sep=None)\n",
    "D = int(firstline[0])\n",
    "I = int(firstline[1])\n",
    "S = int(firstline[2])\n",
    "V = int(firstline[3])\n",
    "F = int(firstline[4])\n",
    "\n",
    "# Initialise list of streets\n",
    "for x in range(S):\n",
    "    temp = text[x+1]\n",
    "    temp = temp.split(sep=None)\n",
    "    temp[0], temp[1], temp[3] = int(temp[0]), int(temp[1]), int(temp[3])\n",
    "    street_list.append(temp)\n",
    "\n",
    "# Initialise list of paths\n",
    "for x in range(V):\n",
    "    temp = text[x+1+S]\n",
    "    temp = temp.split(sep=None)\n",
    "    temp[0] = int(temp[0])\n",
    "    path_list.append(temp)\n",
    "\n",
    "network = {}  #key: intersection. Values: the previous intersections that lead into this intersect\n",
    "for i in range(1, S + 1):\n",
    "    line = text[i].split(sep=None)\n",
    "    outgoing = int(line[1])\n",
    "    incoming = int(line[0])\n",
    "    if outgoing in network:\n",
    "        network[outgoing].append(incoming)\n",
    "    else:\n",
    "        network[outgoing] = [incoming]\n",
    "print(network)\n",
    "\n",
    "roads_leading_into_intersect = {} #key=intersect  value=name of road leading to it\n",
    "for i in range(1, S + 1):\n",
    "    line = text[i].split(sep=None)\n",
    "    Intersect = int(line[1])\n",
    "    Road = line[2]\n",
    "    \n",
    "    if Intersect in roads_leading_into_intersect:\n",
    "        roads_leading_into_intersect[Intersect].append(Road)\n",
    "    else:\n",
    "        roads_leading_into_intersect[Intersect] = []\n",
    "        roads_leading_into_intersect[Intersect].append(Road)\n",
    "\n",
    "# What is the longest and shortest path?\n",
    "def max_min(path_list):\n",
    "    longest=path_list[0][0]\n",
    "    shortest=path_list[0][0]\n",
    "    for x in path_list:\n",
    "        if(longest<x[0]):\n",
    "            longest=x[0]\n",
    "        if(shortest>x[0]):\n",
    "            shortest=x[0]\n",
    "    return longest, shortest\n",
    "temp1,temp2=max_min(path_list)\n",
    "print(temp1, temp2)\n",
    "\n",
    "# How many shortest paths are there?\n",
    "def path_count(path_list, length):\n",
    "    count=0\n",
    "    \n",
    "\n",
    "# What is the average path length?\n",
    "def avg_length(path_list):\n",
    "    total=0\n",
    "    for x in path_list:\n",
    "        total+=x[0]\n",
    "    avg=total/len(path_list)\n",
    "    return avg\n",
    "print(avg_length(path_list))\n",
    "    \n",
    "#Cars using road\n",
    "def road_usage(path_list, road):\n",
    "    count=0\n",
    "    for x in path_list:\n",
    "        if(road in x):\n",
    "            count+=1\n",
    "    return count\n",
    "\n",
    "print(road_usage(path_list, 'a-bhi'))"
   ]
  },
  {
   "cell_type": "markdown",
   "id": "enclosed-cement",
   "metadata": {},
   "source": [
    "# Calculator"
   ]
  },
  {
   "cell_type": "code",
   "execution_count": 2,
   "id": "remarkable-pound",
   "metadata": {},
   "outputs": [],
   "source": [
    "f = open('solution'+file+'.txt', 'w')\n",
    "#this loop identifies all intersects with only one entrance, and sets the light to always green.\n",
    "f.write(str(I)+'\\n')\n",
    "\n",
    "for intersection in roads_leading_into_intersect:\n",
    "    f.write(str(intersection)+'\\n') #Intersection ID\n",
    "    f.write(str(len(roads_leading_into_intersect[intersection]))+'\\n')\n",
    "    for x in range(len(roads_leading_into_intersect[intersection])):\n",
    "        f.write(roads_leading_into_intersect[intersection][x]+' 1\\n')\n",
    "f.close()"
   ]
  },
  {
   "cell_type": "code",
   "execution_count": null,
   "id": "disabled-campus",
   "metadata": {},
   "outputs": [],
   "source": []
  }
 ],
 "metadata": {
  "kernelspec": {
   "display_name": "Python 3",
   "language": "python",
   "name": "python3"
  },
  "language_info": {
   "codemirror_mode": {
    "name": "ipython",
    "version": 3
   },
   "file_extension": ".py",
   "mimetype": "text/x-python",
   "name": "python",
   "nbconvert_exporter": "python",
   "pygments_lexer": "ipython3",
   "version": "3.8.5"
  }
 },
 "nbformat": 4,
 "nbformat_minor": 5
}
